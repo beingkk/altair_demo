{
 "cells": [
  {
   "cell_type": "code",
   "execution_count": 6,
   "metadata": {},
   "outputs": [],
   "source": [
    "from utils.altair_save_utils import AltairSaver\n",
    "from utils import plotting_utils as pu"
   ]
  },
  {
   "cell_type": "code",
   "execution_count": 8,
   "metadata": {},
   "outputs": [
    {
     "name": "stdout",
     "output_type": "stream",
     "text": [
      "Help on class AltairSaver in module utils.altair_save_utils:\n",
      "\n",
      "class AltairSaver(builtins.object)\n",
      " |  AltairSaver(path: os.PathLike = PosixPath('outputs'), filetypes: Iterator[list] = ['png', 'svg', 'html'])\n",
      " |  \n",
      " |  Class helping to easily save altair charts\n",
      " |  \n",
      " |  Methods defined here:\n",
      " |  \n",
      " |  __init__(self, path: os.PathLike = PosixPath('outputs'), filetypes: Iterator[list] = ['png', 'svg', 'html'])\n",
      " |      Initialize self.  See help(type(self)) for accurate signature.\n",
      " |  \n",
      " |  save(self, fig, name: str, path: os.PathLike = None, filetypes: Iterator[list] = None)\n",
      " |      Saves an altair figure in multiple formats (png, html and svg files)\n",
      " |      Args:\n",
      " |          fig: altair chart\n",
      " |          name: name to save the figure\n",
      " |          driver: webdriver\n",
      " |          path: path where to save the figure\n",
      " |          filetype: list of filetypes, eg: ['png', 'svg', 'html']\n",
      " |  \n",
      " |  ----------------------------------------------------------------------\n",
      " |  Data descriptors defined here:\n",
      " |  \n",
      " |  __dict__\n",
      " |      dictionary for instance variables (if defined)\n",
      " |  \n",
      " |  __weakref__\n",
      " |      list of weak references to the object (if defined)\n",
      "\n"
     ]
    }
   ],
   "source": [
    "help(AltairSaver)"
   ]
  },
  {
   "cell_type": "code",
   "execution_count": null,
   "metadata": {},
   "outputs": [],
   "source": []
  }
 ],
 "metadata": {
  "kernelspec": {
   "display_name": "Python 3 (ipykernel)",
   "language": "python",
   "name": "python3"
  },
  "language_info": {
   "codemirror_mode": {
    "name": "ipython",
    "version": 3
   },
   "file_extension": ".py",
   "mimetype": "text/x-python",
   "name": "python",
   "nbconvert_exporter": "python",
   "pygments_lexer": "ipython3",
   "version": "3.9.12"
  },
  "vscode": {
   "interpreter": {
    "hash": "fe2b047dd073afd8718e0f467ce004570d3a1491baa4910790e0afa8bf0c1dc1"
   }
  }
 },
 "nbformat": 4,
 "nbformat_minor": 4
}
