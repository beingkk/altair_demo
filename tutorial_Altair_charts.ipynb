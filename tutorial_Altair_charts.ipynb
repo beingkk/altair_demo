{
 "cells": [
  {
   "cell_type": "markdown",
   "metadata": {},
   "source": [
    "# Altair charts demo"
   ]
  },
  {
   "cell_type": "markdown",
   "metadata": {},
   "source": [
    "## Setup"
   ]
  },
  {
   "cell_type": "code",
   "execution_count": 5,
   "metadata": {},
   "outputs": [],
   "source": [
    "# Import dependencies\n",
    "from utils.altair_save_utils import AltairSaver\n",
    "from pathlib import Path\n",
    "import altair as alt\n",
    "import pandas as pd"
   ]
  },
  {
   "cell_type": "code",
   "execution_count": 8,
   "metadata": {},
   "outputs": [],
   "source": [
    "# Import our demo dataset\n",
    "dataset_path = 'data/TikTok_songs_2022.csv'\n",
    "data = pd.read_csv(dataset_path)"
   ]
  },
  {
   "cell_type": "code",
   "execution_count": 9,
   "metadata": {},
   "outputs": [
    {
     "data": {
      "text/html": [
       "<div>\n",
       "<style scoped>\n",
       "    .dataframe tbody tr th:only-of-type {\n",
       "        vertical-align: middle;\n",
       "    }\n",
       "\n",
       "    .dataframe tbody tr th {\n",
       "        vertical-align: top;\n",
       "    }\n",
       "\n",
       "    .dataframe thead th {\n",
       "        text-align: right;\n",
       "    }\n",
       "</style>\n",
       "<table border=\"1\" class=\"dataframe\">\n",
       "  <thead>\n",
       "    <tr style=\"text-align: right;\">\n",
       "      <th></th>\n",
       "      <th>track_name</th>\n",
       "      <th>artist_name</th>\n",
       "      <th>artist_pop</th>\n",
       "      <th>album</th>\n",
       "      <th>track_pop</th>\n",
       "      <th>danceability</th>\n",
       "      <th>energy</th>\n",
       "      <th>loudness</th>\n",
       "      <th>mode</th>\n",
       "      <th>key</th>\n",
       "      <th>speechiness</th>\n",
       "      <th>acousticness</th>\n",
       "      <th>instrumentalness</th>\n",
       "      <th>liveness</th>\n",
       "      <th>valence</th>\n",
       "      <th>tempo</th>\n",
       "      <th>time_signature</th>\n",
       "      <th>duration_ms</th>\n",
       "    </tr>\n",
       "  </thead>\n",
       "  <tbody>\n",
       "    <tr>\n",
       "      <th>0</th>\n",
       "      <td>Running Up That Hill (A Deal With God)</td>\n",
       "      <td>Kate Bush</td>\n",
       "      <td>81</td>\n",
       "      <td>Hounds Of Love</td>\n",
       "      <td>95</td>\n",
       "      <td>0.629</td>\n",
       "      <td>0.547</td>\n",
       "      <td>-13.123</td>\n",
       "      <td>0</td>\n",
       "      <td>10</td>\n",
       "      <td>0.0550</td>\n",
       "      <td>0.720</td>\n",
       "      <td>0.00314</td>\n",
       "      <td>0.0604</td>\n",
       "      <td>0.197</td>\n",
       "      <td>108.375</td>\n",
       "      <td>4</td>\n",
       "      <td>298933</td>\n",
       "    </tr>\n",
       "    <tr>\n",
       "      <th>1</th>\n",
       "      <td>As It Was</td>\n",
       "      <td>Harry Styles</td>\n",
       "      <td>91</td>\n",
       "      <td>As It Was</td>\n",
       "      <td>96</td>\n",
       "      <td>0.520</td>\n",
       "      <td>0.731</td>\n",
       "      <td>-5.338</td>\n",
       "      <td>0</td>\n",
       "      <td>6</td>\n",
       "      <td>0.0557</td>\n",
       "      <td>0.342</td>\n",
       "      <td>0.00101</td>\n",
       "      <td>0.3110</td>\n",
       "      <td>0.662</td>\n",
       "      <td>173.930</td>\n",
       "      <td>4</td>\n",
       "      <td>167303</td>\n",
       "    </tr>\n",
       "    <tr>\n",
       "      <th>2</th>\n",
       "      <td>Sunroof</td>\n",
       "      <td>Nicky Youre</td>\n",
       "      <td>73</td>\n",
       "      <td>Sunroof</td>\n",
       "      <td>44</td>\n",
       "      <td>0.768</td>\n",
       "      <td>0.716</td>\n",
       "      <td>-5.110</td>\n",
       "      <td>1</td>\n",
       "      <td>10</td>\n",
       "      <td>0.0404</td>\n",
       "      <td>0.350</td>\n",
       "      <td>0.00000</td>\n",
       "      <td>0.1500</td>\n",
       "      <td>0.841</td>\n",
       "      <td>131.430</td>\n",
       "      <td>4</td>\n",
       "      <td>163026</td>\n",
       "    </tr>\n",
       "  </tbody>\n",
       "</table>\n",
       "</div>"
      ],
      "text/plain": [
       "                               track_name   artist_name  artist_pop  \\\n",
       "0  Running Up That Hill (A Deal With God)     Kate Bush          81   \n",
       "1                               As It Was  Harry Styles          91   \n",
       "2                                 Sunroof   Nicky Youre          73   \n",
       "\n",
       "            album  track_pop  danceability  energy  loudness  mode  key  \\\n",
       "0  Hounds Of Love         95         0.629   0.547   -13.123     0   10   \n",
       "1       As It Was         96         0.520   0.731    -5.338     0    6   \n",
       "2         Sunroof         44         0.768   0.716    -5.110     1   10   \n",
       "\n",
       "   speechiness  acousticness  instrumentalness  liveness  valence    tempo  \\\n",
       "0       0.0550         0.720           0.00314    0.0604    0.197  108.375   \n",
       "1       0.0557         0.342           0.00101    0.3110    0.662  173.930   \n",
       "2       0.0404         0.350           0.00000    0.1500    0.841  131.430   \n",
       "\n",
       "   time_signature  duration_ms  \n",
       "0               4       298933  \n",
       "1               4       167303  \n",
       "2               4       163026  "
      ]
     },
     "execution_count": 9,
     "metadata": {},
     "output_type": "execute_result"
    }
   ],
   "source": [
    "data.head(3)"
   ]
  },
  {
   "cell_type": "markdown",
   "metadata": {},
   "source": [
    "## Simple charts\n",
    "\n",
    "You can consult altair [gallery](https://altair-viz.github.io/gallery/) for various examples!\n",
    "\n",
    "Try out:\n",
    "- `x = alt.X(.., title='Danceability')`\n",
    "- `y = alt.Y(.., sort='-x')`\n",
    "- `.tooltip([..])`\n",
    "- `.interactive()`\n"
   ]
  },
  {
   "cell_type": "code",
   "execution_count": 19,
   "metadata": {},
   "outputs": [
    {
     "data": {
      "text/html": [
       "\n",
       "<div id=\"altair-viz-5d69c19fff204320a7dc42fbeb32b195\"></div>\n",
       "<script type=\"text/javascript\">\n",
       "  var VEGA_DEBUG = (typeof VEGA_DEBUG == \"undefined\") ? {} : VEGA_DEBUG;\n",
       "  (function(spec, embedOpt){\n",
       "    let outputDiv = document.currentScript.previousElementSibling;\n",
       "    if (outputDiv.id !== \"altair-viz-5d69c19fff204320a7dc42fbeb32b195\") {\n",
       "      outputDiv = document.getElementById(\"altair-viz-5d69c19fff204320a7dc42fbeb32b195\");\n",
       "    }\n",
       "    const paths = {\n",
       "      \"vega\": \"https://cdn.jsdelivr.net/npm//vega@5?noext\",\n",
       "      \"vega-lib\": \"https://cdn.jsdelivr.net/npm//vega-lib?noext\",\n",
       "      \"vega-lite\": \"https://cdn.jsdelivr.net/npm//vega-lite@4.17.0?noext\",\n",
       "      \"vega-embed\": \"https://cdn.jsdelivr.net/npm//vega-embed@6?noext\",\n",
       "    };\n",
       "\n",
       "    function maybeLoadScript(lib, version) {\n",
       "      var key = `${lib.replace(\"-\", \"\")}_version`;\n",
       "      return (VEGA_DEBUG[key] == version) ?\n",
       "        Promise.resolve(paths[lib]) :\n",
       "        new Promise(function(resolve, reject) {\n",
       "          var s = document.createElement('script');\n",
       "          document.getElementsByTagName(\"head\")[0].appendChild(s);\n",
       "          s.async = true;\n",
       "          s.onload = () => {\n",
       "            VEGA_DEBUG[key] = version;\n",
       "            return resolve(paths[lib]);\n",
       "          };\n",
       "          s.onerror = () => reject(`Error loading script: ${paths[lib]}`);\n",
       "          s.src = paths[lib];\n",
       "        });\n",
       "    }\n",
       "\n",
       "    function showError(err) {\n",
       "      outputDiv.innerHTML = `<div class=\"error\" style=\"color:red;\">${err}</div>`;\n",
       "      throw err;\n",
       "    }\n",
       "\n",
       "    function displayChart(vegaEmbed) {\n",
       "      vegaEmbed(outputDiv, spec, embedOpt)\n",
       "        .catch(err => showError(`Javascript Error: ${err.message}<br>This usually means there's a typo in your chart specification. See the javascript console for the full traceback.`));\n",
       "    }\n",
       "\n",
       "    if(typeof define === \"function\" && define.amd) {\n",
       "      requirejs.config({paths});\n",
       "      require([\"vega-embed\"], displayChart, err => showError(`Error loading script: ${err.message}`));\n",
       "    } else {\n",
       "      maybeLoadScript(\"vega\", \"5\")\n",
       "        .then(() => maybeLoadScript(\"vega-lite\", \"4.17.0\"))\n",
       "        .then(() => maybeLoadScript(\"vega-embed\", \"6\"))\n",
       "        .catch(showError)\n",
       "        .then(() => displayChart(vegaEmbed));\n",
       "    }\n",
       "  })({\"config\": {\"view\": {\"continuousWidth\": 400, \"continuousHeight\": 300}}, \"data\": {\"url\": \"data/TikTok_songs_2022.csv\"}, \"mark\": \"circle\", \"encoding\": {\"x\": {\"field\": \"danceability\", \"type\": \"quantitative\"}, \"y\": {\"field\": \"track_name\", \"sort\": \"-x\", \"type\": \"nominal\"}}, \"$schema\": \"https://vega.github.io/schema/vega-lite/v4.17.0.json\"}, {\"mode\": \"vega-lite\"});\n",
       "</script>"
      ],
      "text/plain": [
       "alt.Chart(...)"
      ]
     },
     "execution_count": 19,
     "metadata": {},
     "output_type": "execute_result"
    }
   ],
   "source": [
    "# Bar chart\n",
    "(\n",
    "    alt\n",
    "    .Chart(dataset_path)\n",
    "    .mark_circle()\n",
    "    .encode(\n",
    "        x='danceability:Q',\n",
    "        y=alt.Y('track_name:N', sort='-x')\n",
    "    )\n",
    ")"
   ]
  },
  {
   "cell_type": "markdown",
   "metadata": {},
   "source": [
    "## Exporting charts"
   ]
  },
  {
   "cell_type": "code",
   "execution_count": null,
   "metadata": {},
   "outputs": [],
   "source": [
    "# Initialise an instance of altair saver\n",
    "altairSaver = AltairSaver(path = Path('outputs/'))"
   ]
  },
  {
   "cell_type": "markdown",
   "metadata": {},
   "source": [
    "## More polished charts"
   ]
  },
  {
   "cell_type": "code",
   "execution_count": null,
   "metadata": {},
   "outputs": [],
   "source": [
    "from utils import plotting_utils as pu"
   ]
  }
 ],
 "metadata": {
  "kernelspec": {
   "display_name": "Python 3 (ipykernel)",
   "language": "python",
   "name": "python3"
  },
  "language_info": {
   "codemirror_mode": {
    "name": "ipython",
    "version": 3
   },
   "file_extension": ".py",
   "mimetype": "text/x-python",
   "name": "python",
   "nbconvert_exporter": "python",
   "pygments_lexer": "ipython3",
   "version": "3.9.12"
  },
  "vscode": {
   "interpreter": {
    "hash": "fe2b047dd073afd8718e0f467ce004570d3a1491baa4910790e0afa8bf0c1dc1"
   }
  }
 },
 "nbformat": 4,
 "nbformat_minor": 4
}
